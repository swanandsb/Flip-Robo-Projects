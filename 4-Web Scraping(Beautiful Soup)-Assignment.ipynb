{
 "cells": [
  {
   "cell_type": "code",
   "execution_count": 22,
   "metadata": {},
   "outputs": [],
   "source": [
    "import  requests\n",
    "from  bs4 import BeautifulSoup"
   ]
  },
  {
   "cell_type": "code",
   "execution_count": 23,
   "metadata": {},
   "outputs": [],
   "source": [
    "page = requests.get('https://bookpage.com/reviews')"
   ]
  },
  {
   "cell_type": "code",
   "execution_count": 24,
   "metadata": {},
   "outputs": [],
   "source": [
    "soup = BeautifulSoup(page.text, 'html.parser')"
   ]
  },
  {
   "cell_type": "code",
   "execution_count": 25,
   "metadata": {},
   "outputs": [],
   "source": [
    "Name=[]\n",
    "Author_Name=[]\n",
    "Genre=[]\n",
    "Review=[]"
   ]
  },
  {
   "cell_type": "code",
   "execution_count": 26,
   "metadata": {},
   "outputs": [],
   "source": [
    "name=soup.find_all('h4',class_=\"italic\")"
   ]
  },
  {
   "cell_type": "code",
   "execution_count": 27,
   "metadata": {},
   "outputs": [
    {
     "data": {
      "text/plain": [
       "['Dress Codes',\n",
       " 'Zorrie',\n",
       " 'Between Two Kingdoms',\n",
       " \"The Witch's Heart\",\n",
       " 'Ancestor Approved']"
      ]
     },
     "execution_count": 27,
     "metadata": {},
     "output_type": "execute_result"
    }
   ],
   "source": [
    "for i in name:\n",
    "    name_1=i.a.get_text().replace('★','')\n",
    "    Name.append(name_1.strip())\n",
    "Name[0:5]"
   ]
  },
  {
   "cell_type": "code",
   "execution_count": 28,
   "metadata": {},
   "outputs": [],
   "source": [
    "author=soup.find_all('p',class_=\"sans bold\")"
   ]
  },
  {
   "cell_type": "code",
   "execution_count": 29,
   "metadata": {},
   "outputs": [
    {
     "data": {
      "text/plain": [
       "['Richard Thompson Ford',\n",
       " 'Laird Hunt',\n",
       " 'Suleika Jaouad',\n",
       " 'Genevieve Gornichec',\n",
       " 'Cynthia Leitich Smith']"
      ]
     },
     "execution_count": 29,
     "metadata": {},
     "output_type": "execute_result"
    }
   ],
   "source": [
    "for i in author:\n",
    "    author_1=i.get_text().replace('\\n','')\n",
    "    Author_Name.append(author_1)\n",
    "Author_Name[0:5]"
   ]
  },
  {
   "cell_type": "code",
   "execution_count": 30,
   "metadata": {},
   "outputs": [],
   "source": [
    "genre=soup.find_all('p',class_=\"genre-links hidden-phone\")"
   ]
  },
  {
   "cell_type": "code",
   "execution_count": 31,
   "metadata": {},
   "outputs": [
    {
     "data": {
      "text/plain": [
       "['Nonfiction / History',\n",
       " 'Fiction / Literary Fiction',\n",
       " 'Nonfiction / Memoir / Travelogues/Travel Memoirs',\n",
       " 'Science Fiction & Fantasy / Fantasy',\n",
       " \"Children's / Middle Grade\"]"
      ]
     },
     "execution_count": 31,
     "metadata": {},
     "output_type": "execute_result"
    }
   ],
   "source": [
    "for i in genre:\n",
    "    genre_1=i.get_text().replace('\\n','')\n",
    "    Genre.append(genre_1)\n",
    "Genre[0:5]"
   ]
  },
  {
   "cell_type": "code",
   "execution_count": 32,
   "metadata": {},
   "outputs": [],
   "source": [
    "review=soup.find_all('p',class_=\"excerpt\")"
   ]
  },
  {
   "cell_type": "code",
   "execution_count": 33,
   "metadata": {},
   "outputs": [
    {
     "data": {
      "text/plain": [
       "['In Dress Codes, Richard Thompson Ford has created a thorough and well-thought-out history of fashion from a legal and societal perspective.',\n",
       " 'Laird Hunt has a reputation for sensitively chronicling women’s lives, as in Neverhome, his Civil War tale of an Indiana woman who becomes a Union soldier. He returns to the Indiana setting in his delicate new novel, Zorrie, a powerful portrait of longing and community in the American...',\n",
       " 'Suleika Jaouad’s engrossing memoir, Between Two Kingdoms: A Memoir of Life Interrupted, paints a portrait of her experiences during and after treatment for leukemia.',\n",
       " 'Genevieve Gornichec’s debut novel, The Witch’s Heart, is both staggering in its beauty and delicate in its execution.',\n",
       " 'Ancestor Approved is a lively anthology of interlinked short stories and poems from a wide range of Native American writers. It’s also the first anthology published by Heartdrum, a new imprint within HarperCollins Children’s Publishing dedicated to Native American stories and...']"
      ]
     },
     "execution_count": 33,
     "metadata": {},
     "output_type": "execute_result"
    }
   ],
   "source": [
    "for i in review:\n",
    "    no=i.text.replace('\\n','')\n",
    "    Review.append(no)\n",
    "Review[0:5]"
   ]
  },
  {
   "cell_type": "code",
   "execution_count": 34,
   "metadata": {},
   "outputs": [],
   "source": [
    "import pandas as pd\n",
    "table=pd.DataFrame({})\n",
    "table['Book Name']=Name[0:5]\n",
    "table['Author Name']=Author_Name[0:5]\n",
    "table['Genre']=Genre[0:5]\n",
    "table['Review']=Review[0:5]"
   ]
  },
  {
   "cell_type": "code",
   "execution_count": 35,
   "metadata": {},
   "outputs": [
    {
     "data": {
      "text/html": [
       "<div>\n",
       "<style scoped>\n",
       "    .dataframe tbody tr th:only-of-type {\n",
       "        vertical-align: middle;\n",
       "    }\n",
       "\n",
       "    .dataframe tbody tr th {\n",
       "        vertical-align: top;\n",
       "    }\n",
       "\n",
       "    .dataframe thead th {\n",
       "        text-align: right;\n",
       "    }\n",
       "</style>\n",
       "<table border=\"1\" class=\"dataframe\">\n",
       "  <thead>\n",
       "    <tr style=\"text-align: right;\">\n",
       "      <th></th>\n",
       "      <th>Book Name</th>\n",
       "      <th>Author Name</th>\n",
       "      <th>Genre</th>\n",
       "      <th>Review</th>\n",
       "    </tr>\n",
       "  </thead>\n",
       "  <tbody>\n",
       "    <tr>\n",
       "      <th>0</th>\n",
       "      <td>Dress Codes</td>\n",
       "      <td>Richard Thompson Ford</td>\n",
       "      <td>Nonfiction / History</td>\n",
       "      <td>In Dress Codes, Richard Thompson Ford has crea...</td>\n",
       "    </tr>\n",
       "    <tr>\n",
       "      <th>1</th>\n",
       "      <td>Zorrie</td>\n",
       "      <td>Laird Hunt</td>\n",
       "      <td>Fiction / Literary Fiction</td>\n",
       "      <td>Laird Hunt has a reputation for sensitively ch...</td>\n",
       "    </tr>\n",
       "    <tr>\n",
       "      <th>2</th>\n",
       "      <td>Between Two Kingdoms</td>\n",
       "      <td>Suleika Jaouad</td>\n",
       "      <td>Nonfiction / Memoir / Travelogues/Travel Memoirs</td>\n",
       "      <td>Suleika Jaouad’s engrossing memoir, Between Tw...</td>\n",
       "    </tr>\n",
       "    <tr>\n",
       "      <th>3</th>\n",
       "      <td>The Witch's Heart</td>\n",
       "      <td>Genevieve Gornichec</td>\n",
       "      <td>Science Fiction &amp; Fantasy / Fantasy</td>\n",
       "      <td>Genevieve Gornichec’s debut novel, The Witch’s...</td>\n",
       "    </tr>\n",
       "    <tr>\n",
       "      <th>4</th>\n",
       "      <td>Ancestor Approved</td>\n",
       "      <td>Cynthia Leitich Smith</td>\n",
       "      <td>Children's / Middle Grade</td>\n",
       "      <td>Ancestor Approved is a lively anthology of int...</td>\n",
       "    </tr>\n",
       "  </tbody>\n",
       "</table>\n",
       "</div>"
      ],
      "text/plain": [
       "              Book Name            Author Name  \\\n",
       "0           Dress Codes  Richard Thompson Ford   \n",
       "1                Zorrie             Laird Hunt   \n",
       "2  Between Two Kingdoms         Suleika Jaouad   \n",
       "3     The Witch's Heart    Genevieve Gornichec   \n",
       "4     Ancestor Approved  Cynthia Leitich Smith   \n",
       "\n",
       "                                              Genre  \\\n",
       "0                              Nonfiction / History   \n",
       "1                        Fiction / Literary Fiction   \n",
       "2  Nonfiction / Memoir / Travelogues/Travel Memoirs   \n",
       "3               Science Fiction & Fantasy / Fantasy   \n",
       "4                         Children's / Middle Grade   \n",
       "\n",
       "                                              Review  \n",
       "0  In Dress Codes, Richard Thompson Ford has crea...  \n",
       "1  Laird Hunt has a reputation for sensitively ch...  \n",
       "2  Suleika Jaouad’s engrossing memoir, Between Tw...  \n",
       "3  Genevieve Gornichec’s debut novel, The Witch’s...  \n",
       "4  Ancestor Approved is a lively anthology of int...  "
      ]
     },
     "execution_count": 35,
     "metadata": {},
     "output_type": "execute_result"
    }
   ],
   "source": [
    "table"
   ]
  },
  {
   "cell_type": "code",
   "execution_count": 36,
   "metadata": {},
   "outputs": [],
   "source": [
    "table.to_csv('Web Scraping(Beautiful Soup)-Assignment 4.csv')"
   ]
  },
  {
   "cell_type": "code",
   "execution_count": null,
   "metadata": {},
   "outputs": [],
   "source": []
  }
 ],
 "metadata": {
  "kernelspec": {
   "display_name": "Python 3",
   "language": "python",
   "name": "python3"
  },
  "language_info": {
   "codemirror_mode": {
    "name": "ipython",
    "version": 3
   },
   "file_extension": ".py",
   "mimetype": "text/x-python",
   "name": "python",
   "nbconvert_exporter": "python",
   "pygments_lexer": "ipython3",
   "version": "3.8.5"
  }
 },
 "nbformat": 4,
 "nbformat_minor": 4
}
