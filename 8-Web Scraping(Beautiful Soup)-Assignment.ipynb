{
 "cells": [
  {
   "cell_type": "code",
   "execution_count": 1,
   "metadata": {},
   "outputs": [],
   "source": [
    "import  requests\n",
    "from  bs4 import BeautifulSoup"
   ]
  },
  {
   "cell_type": "code",
   "execution_count": 2,
   "metadata": {},
   "outputs": [],
   "source": [
    "page = requests.get('https://forecast.weather.gov/MapClick.php?lat=37.777120000000025&lon=-122.41963999999996#.YCGX2OgzZPY')\n",
    "soup = BeautifulSoup(page.text, 'html.parser')"
   ]
  },
  {
   "cell_type": "code",
   "execution_count": 25,
   "metadata": {},
   "outputs": [],
   "source": [
    "period=[]\n",
    "short=[]\n",
    "temp=[]\n",
    "disc=[]"
   ]
  },
  {
   "cell_type": "code",
   "execution_count": 26,
   "metadata": {},
   "outputs": [],
   "source": [
    "period_1=soup.find_all('p',class_=\"period-name\")"
   ]
  },
  {
   "cell_type": "code",
   "execution_count": 27,
   "metadata": {},
   "outputs": [
    {
     "data": {
      "text/plain": [
       "['Today',\n",
       " 'Tonight',\n",
       " 'Tuesday',\n",
       " 'TuesdayNight',\n",
       " 'Wednesday',\n",
       " 'WednesdayNight',\n",
       " 'Thursday',\n",
       " 'ThursdayNight',\n",
       " 'Friday']"
      ]
     },
     "execution_count": 27,
     "metadata": {},
     "output_type": "execute_result"
    }
   ],
   "source": [
    "for i in period_1:\n",
    "    no=i.text\n",
    "    period.append(no)\n",
    "period[:]"
   ]
  },
  {
   "cell_type": "code",
   "execution_count": 28,
   "metadata": {},
   "outputs": [],
   "source": [
    "short_1=soup.find_all('p',class_=\"short-desc\")"
   ]
  },
  {
   "cell_type": "code",
   "execution_count": 29,
   "metadata": {},
   "outputs": [
    {
     "data": {
      "text/plain": [
       "['Cloudy',\n",
       " 'Mostly Cloudy',\n",
       " 'Mostly Cloudy',\n",
       " 'Mostly Cloudy',\n",
       " 'Sunny',\n",
       " 'Partly Cloudy',\n",
       " 'Rain Likely',\n",
       " 'Rain Likely',\n",
       " 'Chance Rain']"
      ]
     },
     "execution_count": 29,
     "metadata": {},
     "output_type": "execute_result"
    }
   ],
   "source": [
    "for i in short_1:\n",
    "    no=i.text\n",
    "    short.append(no)\n",
    "short[:]"
   ]
  },
  {
   "cell_type": "code",
   "execution_count": 31,
   "metadata": {},
   "outputs": [
    {
     "data": {
      "text/plain": [
       "['High: 58 °F',\n",
       " 'Low: 48 °F',\n",
       " 'High: 58 °F',\n",
       " 'Low: 47 °F',\n",
       " 'High: 60 °F',\n",
       " 'Low: 48 °F',\n",
       " 'High: 59 °F',\n",
       " 'Low: 50 °F',\n",
       " 'High: 59 °F']"
      ]
     },
     "execution_count": 31,
     "metadata": {},
     "output_type": "execute_result"
    }
   ],
   "source": [
    "for i in short_1:\n",
    "    no=i.next_sibling.text\n",
    "    temp.append(no)\n",
    "temp[:]"
   ]
  },
  {
   "cell_type": "code",
   "execution_count": 32,
   "metadata": {},
   "outputs": [],
   "source": [
    "disc_1=soup.find_all('div',class_=\"col-sm-10 forecast-text\")"
   ]
  },
  {
   "cell_type": "code",
   "execution_count": 33,
   "metadata": {},
   "outputs": [
    {
     "data": {
      "text/plain": [
       "['Cloudy, with a high near 58. Calm wind becoming west southwest 5 to 7 mph in the afternoon. ',\n",
       " 'Mostly cloudy, with a low around 48. West wind 6 to 8 mph. ',\n",
       " 'Mostly cloudy, with a high near 58. West wind 9 to 11 mph. ',\n",
       " 'Mostly cloudy, with a low around 47. West wind 7 to 9 mph. ',\n",
       " 'Sunny, with a high near 60. Calm wind becoming west around 6 mph in the afternoon. ',\n",
       " 'Partly cloudy, with a low around 48.',\n",
       " 'Rain likely, mainly after 4pm.  Mostly cloudy, with a high near 59. Chance of precipitation is 60%.',\n",
       " 'Rain likely, mainly before 10pm.  Mostly cloudy, with a low around 50.',\n",
       " 'A chance of rain, mainly between 10am and 4pm.  Partly sunny, with a high near 59.',\n",
       " 'A chance of rain after 10pm.  Mostly cloudy, with a low around 49.',\n",
       " 'Rain likely.  Mostly cloudy, with a high near 58.',\n",
       " 'A chance of rain.  Mostly cloudy, with a low around 46.',\n",
       " 'A chance of rain.  Partly sunny, with a high near 57.']"
      ]
     },
     "execution_count": 33,
     "metadata": {},
     "output_type": "execute_result"
    }
   ],
   "source": [
    "for i in disc_1:\n",
    "    no=i.text\n",
    "    disc.append(no)\n",
    "disc[:]"
   ]
  },
  {
   "cell_type": "code",
   "execution_count": 34,
   "metadata": {},
   "outputs": [],
   "source": [
    "import pandas as pd\n",
    "table=pd.DataFrame({})\n",
    "table['Period']=period[0:9]\n",
    "table['Short Description']=short[0:9]\n",
    "table['Temperature']=temp[0:9]\n",
    "table['Description']=disc[0:9]"
   ]
  },
  {
   "cell_type": "code",
   "execution_count": 35,
   "metadata": {},
   "outputs": [
    {
     "data": {
      "text/html": [
       "<div>\n",
       "<style scoped>\n",
       "    .dataframe tbody tr th:only-of-type {\n",
       "        vertical-align: middle;\n",
       "    }\n",
       "\n",
       "    .dataframe tbody tr th {\n",
       "        vertical-align: top;\n",
       "    }\n",
       "\n",
       "    .dataframe thead th {\n",
       "        text-align: right;\n",
       "    }\n",
       "</style>\n",
       "<table border=\"1\" class=\"dataframe\">\n",
       "  <thead>\n",
       "    <tr style=\"text-align: right;\">\n",
       "      <th></th>\n",
       "      <th>Period</th>\n",
       "      <th>Short Description</th>\n",
       "      <th>Temperature</th>\n",
       "      <th>Description</th>\n",
       "    </tr>\n",
       "  </thead>\n",
       "  <tbody>\n",
       "    <tr>\n",
       "      <th>0</th>\n",
       "      <td>Today</td>\n",
       "      <td>Cloudy</td>\n",
       "      <td>High: 58 °F</td>\n",
       "      <td>Cloudy, with a high near 58. Calm wind becomin...</td>\n",
       "    </tr>\n",
       "    <tr>\n",
       "      <th>1</th>\n",
       "      <td>Tonight</td>\n",
       "      <td>Mostly Cloudy</td>\n",
       "      <td>Low: 48 °F</td>\n",
       "      <td>Mostly cloudy, with a low around 48. West wind...</td>\n",
       "    </tr>\n",
       "    <tr>\n",
       "      <th>2</th>\n",
       "      <td>Tuesday</td>\n",
       "      <td>Mostly Cloudy</td>\n",
       "      <td>High: 58 °F</td>\n",
       "      <td>Mostly cloudy, with a high near 58. West wind ...</td>\n",
       "    </tr>\n",
       "    <tr>\n",
       "      <th>3</th>\n",
       "      <td>TuesdayNight</td>\n",
       "      <td>Mostly Cloudy</td>\n",
       "      <td>Low: 47 °F</td>\n",
       "      <td>Mostly cloudy, with a low around 47. West wind...</td>\n",
       "    </tr>\n",
       "    <tr>\n",
       "      <th>4</th>\n",
       "      <td>Wednesday</td>\n",
       "      <td>Sunny</td>\n",
       "      <td>High: 60 °F</td>\n",
       "      <td>Sunny, with a high near 60. Calm wind becoming...</td>\n",
       "    </tr>\n",
       "    <tr>\n",
       "      <th>5</th>\n",
       "      <td>WednesdayNight</td>\n",
       "      <td>Partly Cloudy</td>\n",
       "      <td>Low: 48 °F</td>\n",
       "      <td>Partly cloudy, with a low around 48.</td>\n",
       "    </tr>\n",
       "    <tr>\n",
       "      <th>6</th>\n",
       "      <td>Thursday</td>\n",
       "      <td>Rain Likely</td>\n",
       "      <td>High: 59 °F</td>\n",
       "      <td>Rain likely, mainly after 4pm.  Mostly cloudy,...</td>\n",
       "    </tr>\n",
       "    <tr>\n",
       "      <th>7</th>\n",
       "      <td>ThursdayNight</td>\n",
       "      <td>Rain Likely</td>\n",
       "      <td>Low: 50 °F</td>\n",
       "      <td>Rain likely, mainly before 10pm.  Mostly cloud...</td>\n",
       "    </tr>\n",
       "    <tr>\n",
       "      <th>8</th>\n",
       "      <td>Friday</td>\n",
       "      <td>Chance Rain</td>\n",
       "      <td>High: 59 °F</td>\n",
       "      <td>A chance of rain, mainly between 10am and 4pm....</td>\n",
       "    </tr>\n",
       "  </tbody>\n",
       "</table>\n",
       "</div>"
      ],
      "text/plain": [
       "           Period Short Description  Temperature  \\\n",
       "0           Today            Cloudy  High: 58 °F   \n",
       "1         Tonight     Mostly Cloudy   Low: 48 °F   \n",
       "2         Tuesday     Mostly Cloudy  High: 58 °F   \n",
       "3    TuesdayNight     Mostly Cloudy   Low: 47 °F   \n",
       "4       Wednesday             Sunny  High: 60 °F   \n",
       "5  WednesdayNight     Partly Cloudy   Low: 48 °F   \n",
       "6        Thursday       Rain Likely  High: 59 °F   \n",
       "7   ThursdayNight       Rain Likely   Low: 50 °F   \n",
       "8          Friday       Chance Rain  High: 59 °F   \n",
       "\n",
       "                                         Description  \n",
       "0  Cloudy, with a high near 58. Calm wind becomin...  \n",
       "1  Mostly cloudy, with a low around 48. West wind...  \n",
       "2  Mostly cloudy, with a high near 58. West wind ...  \n",
       "3  Mostly cloudy, with a low around 47. West wind...  \n",
       "4  Sunny, with a high near 60. Calm wind becoming...  \n",
       "5               Partly cloudy, with a low around 48.  \n",
       "6  Rain likely, mainly after 4pm.  Mostly cloudy,...  \n",
       "7  Rain likely, mainly before 10pm.  Mostly cloud...  \n",
       "8  A chance of rain, mainly between 10am and 4pm....  "
      ]
     },
     "execution_count": 35,
     "metadata": {},
     "output_type": "execute_result"
    }
   ],
   "source": [
    "table"
   ]
  },
  {
   "cell_type": "code",
   "execution_count": 36,
   "metadata": {},
   "outputs": [],
   "source": [
    "table.to_csv('Web Scraping(Beautiful Soup)-Assignment 8.csv')"
   ]
  },
  {
   "cell_type": "code",
   "execution_count": null,
   "metadata": {},
   "outputs": [],
   "source": []
  }
 ],
 "metadata": {
  "kernelspec": {
   "display_name": "Python 3",
   "language": "python",
   "name": "python3"
  },
  "language_info": {
   "codemirror_mode": {
    "name": "ipython",
    "version": 3
   },
   "file_extension": ".py",
   "mimetype": "text/x-python",
   "name": "python",
   "nbconvert_exporter": "python",
   "pygments_lexer": "ipython3",
   "version": "3.8.5"
  }
 },
 "nbformat": 4,
 "nbformat_minor": 4
}
