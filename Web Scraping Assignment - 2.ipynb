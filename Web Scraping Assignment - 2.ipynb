{
 "cells": [
  {
   "cell_type": "markdown",
   "metadata": {},
   "source": [
    "# Q 1"
   ]
  },
  {
   "cell_type": "code",
   "execution_count": 1,
   "metadata": {},
   "outputs": [
    {
     "name": "stdout",
     "output_type": "stream",
     "text": [
      "Requirement already satisfied: selenium in c:\\program1\\lib\\site-packages (3.141.0)\n",
      "Requirement already satisfied: urllib3 in c:\\program1\\lib\\site-packages (from selenium) (1.25.11)\n"
     ]
    }
   ],
   "source": [
    "!pip install selenium"
   ]
  },
  {
   "cell_type": "code",
   "execution_count": 10,
   "metadata": {},
   "outputs": [],
   "source": [
    "import selenium \n",
    "import pandas as pd\n",
    "from selenium import webdriver"
   ]
  },
  {
   "cell_type": "code",
   "execution_count": 54,
   "metadata": {},
   "outputs": [],
   "source": [
    "driver = webdriver.Chrome(\"C:/Users/91880/Downloads/chromedriver_win32/chromedriver.exe\")"
   ]
  },
  {
   "cell_type": "code",
   "execution_count": 55,
   "metadata": {},
   "outputs": [],
   "source": [
    "driver.get('https://www.naukri.com')"
   ]
  },
  {
   "cell_type": "code",
   "execution_count": 56,
   "metadata": {},
   "outputs": [],
   "source": [
    "search_job = driver.find_element_by_id('qsb-keyword-sugg')\n",
    "search_job.send_keys(\"Data Analyst\")\n",
    "search_loc = driver.find_element_by_xpath(\"//input[@id='qsb-location-sugg']\")\n",
    "search_loc.send_keys(\"Bangalore\")"
   ]
  },
  {
   "cell_type": "code",
   "execution_count": 57,
   "metadata": {},
   "outputs": [],
   "source": [
    "search_btn = driver.find_element_by_xpath(\"//div[@class='search-btn']/button\")\n",
    "search_btn.click()"
   ]
  },
  {
   "cell_type": "code",
   "execution_count": 58,
   "metadata": {},
   "outputs": [],
   "source": [
    "url=\"https://www.naukri.com/data-analyst-jobs-in-bangalore?k=data%20analyst&l=bangalore\""
   ]
  },
  {
   "cell_type": "code",
   "execution_count": 59,
   "metadata": {},
   "outputs": [],
   "source": [
    "driver.get(url)"
   ]
  },
  {
   "cell_type": "code",
   "execution_count": null,
   "metadata": {},
   "outputs": [],
   "source": [
    "Extracting all the data"
   ]
  },
  {
   "cell_type": "code",
   "execution_count": 60,
   "metadata": {},
   "outputs": [],
   "source": [
    "titles=[]\n",
    "comp=[]\n",
    "loc=[]\n",
    "exp=[]"
   ]
  },
  {
   "cell_type": "code",
   "execution_count": 61,
   "metadata": {},
   "outputs": [],
   "source": [
    "title=driver.find_elements_by_xpath(\"//a[@class='title fw500 ellipsis']\")"
   ]
  },
  {
   "cell_type": "code",
   "execution_count": 62,
   "metadata": {},
   "outputs": [
    {
     "data": {
      "text/plain": [
       "['Data Analyst - SAP',\n",
       " 'Hiring Data Analysts on Contract',\n",
       " 'Senior Data Analyst',\n",
       " 'Data Analyst',\n",
       " 'Business / Data Analyst']"
      ]
     },
     "execution_count": 62,
     "metadata": {},
     "output_type": "execute_result"
    }
   ],
   "source": [
    "for i in title:\n",
    "    a=i.text\n",
    "    titles.append(a)\n",
    "titles[0:5]"
   ]
  },
  {
   "cell_type": "code",
   "execution_count": 63,
   "metadata": {},
   "outputs": [],
   "source": [
    "comp_1=driver.find_elements_by_xpath(\"//a[@class='subTitle ellipsis fleft']\")"
   ]
  },
  {
   "cell_type": "code",
   "execution_count": 64,
   "metadata": {},
   "outputs": [
    {
     "data": {
      "text/plain": [
       "['Boston Scientific Corporation',\n",
       " 'Flipkart Internet Private Limited',\n",
       " 'Schneider Electric',\n",
       " 'Shell India Markets Private Limited',\n",
       " 'IBM India Pvt. Limited']"
      ]
     },
     "execution_count": 64,
     "metadata": {},
     "output_type": "execute_result"
    }
   ],
   "source": [
    "for i in comp_1:\n",
    "    a=i.text\n",
    "    comp.append(a)\n",
    "comp[0:5]"
   ]
  },
  {
   "cell_type": "code",
   "execution_count": 65,
   "metadata": {},
   "outputs": [],
   "source": [
    "loc_1=driver.find_elements_by_xpath(\"//li[@class='fleft grey-text br2 placeHolderLi location']/span[1]\")"
   ]
  },
  {
   "cell_type": "code",
   "execution_count": 66,
   "metadata": {},
   "outputs": [
    {
     "data": {
      "text/plain": [
       "['Pune, Delhi, Bengaluru, Gurgaon',\n",
       " 'Bengaluru',\n",
       " 'Bengaluru / Bangalore',\n",
       " 'Bengaluru',\n",
       " 'Bengaluru']"
      ]
     },
     "execution_count": 66,
     "metadata": {},
     "output_type": "execute_result"
    }
   ],
   "source": [
    "for i in loc_1:\n",
    "    a=i.text\n",
    "    loc.append(a)\n",
    "loc[0:5]"
   ]
  },
  {
   "cell_type": "code",
   "execution_count": 67,
   "metadata": {},
   "outputs": [],
   "source": [
    "exp_1=driver.find_elements_by_xpath(\"//li[@class='fleft grey-text br2 placeHolderLi experience']/span[1]\")"
   ]
  },
  {
   "cell_type": "code",
   "execution_count": 68,
   "metadata": {},
   "outputs": [
    {
     "data": {
      "text/plain": [
       "['3-5 Yrs', '2-5 Yrs', '2-5 Yrs', '5-8 Yrs', '2-4 Yrs']"
      ]
     },
     "execution_count": 68,
     "metadata": {},
     "output_type": "execute_result"
    }
   ],
   "source": [
    "for i in exp_1:\n",
    "    a=i.text\n",
    "    exp.append(a)\n",
    "exp[0:5]"
   ]
  },
  {
   "cell_type": "code",
   "execution_count": 69,
   "metadata": {},
   "outputs": [
    {
     "name": "stdout",
     "output_type": "stream",
     "text": [
      "20 20 20 20\n"
     ]
    }
   ],
   "source": [
    "print(len(titles),len(comp),len(loc),len(exp))"
   ]
  },
  {
   "cell_type": "code",
   "execution_count": 70,
   "metadata": {},
   "outputs": [],
   "source": [
    "jobs=pd.DataFrame({})\n",
    "jobs['Job Title']=titles[0:10]\n",
    "jobs['Company Name']=comp[0:10]\n",
    "jobs['Location']=loc[0:10]\n",
    "jobs['Experience Required']=exp[0:10]"
   ]
  },
  {
   "cell_type": "code",
   "execution_count": 71,
   "metadata": {},
   "outputs": [
    {
     "data": {
      "text/html": [
       "<div>\n",
       "<style scoped>\n",
       "    .dataframe tbody tr th:only-of-type {\n",
       "        vertical-align: middle;\n",
       "    }\n",
       "\n",
       "    .dataframe tbody tr th {\n",
       "        vertical-align: top;\n",
       "    }\n",
       "\n",
       "    .dataframe thead th {\n",
       "        text-align: right;\n",
       "    }\n",
       "</style>\n",
       "<table border=\"1\" class=\"dataframe\">\n",
       "  <thead>\n",
       "    <tr style=\"text-align: right;\">\n",
       "      <th></th>\n",
       "      <th>Job Title</th>\n",
       "      <th>Company Name</th>\n",
       "      <th>Location</th>\n",
       "      <th>Experience Required</th>\n",
       "    </tr>\n",
       "  </thead>\n",
       "  <tbody>\n",
       "    <tr>\n",
       "      <th>0</th>\n",
       "      <td>Data Analyst - SAP</td>\n",
       "      <td>Boston Scientific Corporation</td>\n",
       "      <td>Pune, Delhi, Bengaluru, Gurgaon</td>\n",
       "      <td>3-5 Yrs</td>\n",
       "    </tr>\n",
       "    <tr>\n",
       "      <th>1</th>\n",
       "      <td>Hiring Data Analysts on Contract</td>\n",
       "      <td>Flipkart Internet Private Limited</td>\n",
       "      <td>Bengaluru</td>\n",
       "      <td>2-5 Yrs</td>\n",
       "    </tr>\n",
       "    <tr>\n",
       "      <th>2</th>\n",
       "      <td>Senior Data Analyst</td>\n",
       "      <td>Schneider Electric</td>\n",
       "      <td>Bengaluru / Bangalore</td>\n",
       "      <td>2-5 Yrs</td>\n",
       "    </tr>\n",
       "    <tr>\n",
       "      <th>3</th>\n",
       "      <td>Data Analyst</td>\n",
       "      <td>Shell India Markets Private Limited</td>\n",
       "      <td>Bengaluru</td>\n",
       "      <td>5-8 Yrs</td>\n",
       "    </tr>\n",
       "    <tr>\n",
       "      <th>4</th>\n",
       "      <td>Business / Data Analyst</td>\n",
       "      <td>IBM India Pvt. Limited</td>\n",
       "      <td>Bengaluru</td>\n",
       "      <td>2-4 Yrs</td>\n",
       "    </tr>\n",
       "    <tr>\n",
       "      <th>5</th>\n",
       "      <td>Intern Data Analyst</td>\n",
       "      <td>Outsource Big Data</td>\n",
       "      <td>Bengaluru</td>\n",
       "      <td>0-1 Yrs</td>\n",
       "    </tr>\n",
       "    <tr>\n",
       "      <th>6</th>\n",
       "      <td>Data Analyst</td>\n",
       "      <td>GlaxoSmithKline Pharmaceuticals Limited</td>\n",
       "      <td>Bengaluru</td>\n",
       "      <td>4-6 Yrs</td>\n",
       "    </tr>\n",
       "    <tr>\n",
       "      <th>7</th>\n",
       "      <td>Data Analyst</td>\n",
       "      <td>Reliance Jio Infocomm Ltd.</td>\n",
       "      <td>Bengaluru</td>\n",
       "      <td>8-9 Yrs</td>\n",
       "    </tr>\n",
       "    <tr>\n",
       "      <th>8</th>\n",
       "      <td>SENIOR DATA ANALYST</td>\n",
       "      <td>McAfee Software (India) Pvt. Ltd</td>\n",
       "      <td>Bengaluru</td>\n",
       "      <td>7-12 Yrs</td>\n",
       "    </tr>\n",
       "    <tr>\n",
       "      <th>9</th>\n",
       "      <td>Data Analyst</td>\n",
       "      <td>EZEU</td>\n",
       "      <td>Bengaluru</td>\n",
       "      <td>2-7 Yrs</td>\n",
       "    </tr>\n",
       "  </tbody>\n",
       "</table>\n",
       "</div>"
      ],
      "text/plain": [
       "                          Job Title                             Company Name  \\\n",
       "0                Data Analyst - SAP            Boston Scientific Corporation   \n",
       "1  Hiring Data Analysts on Contract        Flipkart Internet Private Limited   \n",
       "2               Senior Data Analyst                       Schneider Electric   \n",
       "3                      Data Analyst      Shell India Markets Private Limited   \n",
       "4           Business / Data Analyst                   IBM India Pvt. Limited   \n",
       "5               Intern Data Analyst                       Outsource Big Data   \n",
       "6                      Data Analyst  GlaxoSmithKline Pharmaceuticals Limited   \n",
       "7                      Data Analyst               Reliance Jio Infocomm Ltd.   \n",
       "8               SENIOR DATA ANALYST         McAfee Software (India) Pvt. Ltd   \n",
       "9                      Data Analyst                                     EZEU   \n",
       "\n",
       "                          Location Experience Required  \n",
       "0  Pune, Delhi, Bengaluru, Gurgaon             3-5 Yrs  \n",
       "1                        Bengaluru             2-5 Yrs  \n",
       "2            Bengaluru / Bangalore             2-5 Yrs  \n",
       "3                        Bengaluru             5-8 Yrs  \n",
       "4                        Bengaluru             2-4 Yrs  \n",
       "5                        Bengaluru             0-1 Yrs  \n",
       "6                        Bengaluru             4-6 Yrs  \n",
       "7                        Bengaluru             8-9 Yrs  \n",
       "8                        Bengaluru            7-12 Yrs  \n",
       "9                        Bengaluru             2-7 Yrs  "
      ]
     },
     "execution_count": 71,
     "metadata": {},
     "output_type": "execute_result"
    }
   ],
   "source": [
    "jobs"
   ]
  },
  {
   "cell_type": "markdown",
   "metadata": {},
   "source": [
    "# Q 2"
   ]
  },
  {
   "cell_type": "code",
   "execution_count": 72,
   "metadata": {},
   "outputs": [],
   "source": [
    "driver.get('https://www.naukri.com')"
   ]
  },
  {
   "cell_type": "code",
   "execution_count": 73,
   "metadata": {},
   "outputs": [],
   "source": [
    "search_job = driver.find_element_by_id('qsb-keyword-sugg')\n",
    "search_job.send_keys(\"Data Scientist\")\n",
    "search_loc = driver.find_element_by_xpath(\"//input[@id='qsb-location-sugg']\")\n",
    "search_loc.send_keys(\"Bangalore\")"
   ]
  },
  {
   "cell_type": "code",
   "execution_count": 74,
   "metadata": {},
   "outputs": [],
   "source": [
    "search_btn = driver.find_element_by_xpath(\"//div[@class='search-btn']/button\")\n",
    "search_btn.click()"
   ]
  },
  {
   "cell_type": "code",
   "execution_count": 80,
   "metadata": {},
   "outputs": [],
   "source": [
    "url=\"https://www.naukri.com/data-scientist-jobs-in-bangalore?k=data%20scientist&l=bangalore\""
   ]
  },
  {
   "cell_type": "code",
   "execution_count": 81,
   "metadata": {},
   "outputs": [],
   "source": [
    "driver.get(url)"
   ]
  },
  {
   "cell_type": "code",
   "execution_count": 82,
   "metadata": {},
   "outputs": [],
   "source": [
    "titles=[]\n",
    "comp=[]\n",
    "loc=[]\n",
    "exp=[]\n",
    "descrip=[]"
   ]
  },
  {
   "cell_type": "code",
   "execution_count": 83,
   "metadata": {},
   "outputs": [],
   "source": [
    "title=driver.find_elements_by_xpath(\"//a[@class='title fw500 ellipsis']\")"
   ]
  },
  {
   "cell_type": "code",
   "execution_count": 84,
   "metadata": {},
   "outputs": [
    {
     "data": {
      "text/plain": [
       "['Data Scientist/Data Analyst-immediate',\n",
       " 'Data Scientist - Python/ MATLAB/ Machine Learning Algorithms',\n",
       " 'Lead Data Scientist - Machine Learning/ Data Mining',\n",
       " 'Data Scientist - Machine Learning (Commerce BU)',\n",
       " 'Opening For Sr. Data Scientist @ Tech Mahindra']"
      ]
     },
     "execution_count": 84,
     "metadata": {},
     "output_type": "execute_result"
    }
   ],
   "source": [
    "for i in title:\n",
    "    a=i.text\n",
    "    titles.append(a)\n",
    "titles[0:5]"
   ]
  },
  {
   "cell_type": "code",
   "execution_count": 85,
   "metadata": {},
   "outputs": [],
   "source": [
    "comp_1=driver.find_elements_by_xpath(\"//a[@class='subTitle ellipsis fleft']\")"
   ]
  },
  {
   "cell_type": "code",
   "execution_count": 86,
   "metadata": {},
   "outputs": [
    {
     "data": {
      "text/plain": [
       "['Inflexion Analytix Private Limited',\n",
       " 'Wrackle Technologies Pvt Ltd',\n",
       " 'Wrackle Technologies Pvt Ltd',\n",
       " 'BLUE YONDER INDIA PRIVATE LIMITED',\n",
       " 'Tech Mahindra Ltd.']"
      ]
     },
     "execution_count": 86,
     "metadata": {},
     "output_type": "execute_result"
    }
   ],
   "source": [
    "for i in comp_1:\n",
    "    a=i.text\n",
    "    comp.append(a)\n",
    "comp[0:5]"
   ]
  },
  {
   "cell_type": "code",
   "execution_count": 87,
   "metadata": {},
   "outputs": [],
   "source": [
    "loc_1=driver.find_elements_by_xpath(\"//li[@class='fleft grey-text br2 placeHolderLi location']/span[1]\")"
   ]
  },
  {
   "cell_type": "code",
   "execution_count": 93,
   "metadata": {},
   "outputs": [
    {
     "data": {
      "text/plain": [
       "['Chennai, Pune, Bengaluru, Hyderabad',\n",
       " 'Bengaluru',\n",
       " 'Bengaluru',\n",
       " 'Bengaluru',\n",
       " 'Pune, Bengaluru']"
      ]
     },
     "execution_count": 93,
     "metadata": {},
     "output_type": "execute_result"
    }
   ],
   "source": [
    "for i in loc_1:\n",
    "    a=i.text\n",
    "    loc.append(a)\n",
    "loc[0:5]"
   ]
  },
  {
   "cell_type": "code",
   "execution_count": 94,
   "metadata": {},
   "outputs": [],
   "source": [
    "exp_1=driver.find_elements_by_xpath(\"//li[@class='fleft grey-text br2 placeHolderLi experience']/span[1]\")"
   ]
  },
  {
   "cell_type": "code",
   "execution_count": 97,
   "metadata": {},
   "outputs": [
    {
     "data": {
      "text/plain": [
       "['0-2 Yrs', '3-8 Yrs', '6-11 Yrs', '2-7 Yrs', '12-20 Yrs']"
      ]
     },
     "execution_count": 97,
     "metadata": {},
     "output_type": "execute_result"
    }
   ],
   "source": [
    "for i in exp_1:\n",
    "    a=i.text\n",
    "    exp.append(a)\n",
    "exp[0:5]"
   ]
  },
  {
   "cell_type": "code",
   "execution_count": 98,
   "metadata": {},
   "outputs": [
    {
     "name": "stdout",
     "output_type": "stream",
     "text": [
      "20 20 20 20\n"
     ]
    }
   ],
   "source": [
    "print(len(titles),len(comp),len(loc),len(exp))"
   ]
  },
  {
   "cell_type": "code",
   "execution_count": 99,
   "metadata": {},
   "outputs": [],
   "source": [
    "urls=driver.find_elements_by_xpath(\"//a[@class='title fw500 ellipsis']\")"
   ]
  },
  {
   "cell_type": "code",
   "execution_count": 100,
   "metadata": {},
   "outputs": [],
   "source": [
    "url=[]\n",
    "for i in urls:\n",
    "    a=i.get_attribute('href')\n",
    "    url.append(a)"
   ]
  },
  {
   "cell_type": "code",
   "execution_count": 101,
   "metadata": {},
   "outputs": [
    {
     "data": {
      "text/plain": [
       "['https://www.naukri.com/job-listings-data-scientist-data-analyst-immediate-inflexion-analytix-private-limited-chennai-pune-bengaluru-bangalore-hyderabad-secunderabad-0-to-2-years-160221001218?src=jobsearchDesk&sid=16136419234102712&xp=1&px=1',\n",
       " 'https://www.naukri.com/job-listings-data-scientist-python-matlab-machine-learning-algorithms-wrackle-technologies-pvt-ltd-bengaluru-bangalore-3-to-8-years-080221905947?src=jobsearchDesk&sid=16136419234102712&xp=2&px=1',\n",
       " 'https://www.naukri.com/job-listings-lead-data-scientist-machine-learning-data-mining-wrackle-technologies-pvt-ltd-bengaluru-bangalore-6-to-11-years-080221900886?src=jobsearchDesk&sid=16136419234102712&xp=3&px=1',\n",
       " 'https://www.naukri.com/job-listings-data-scientist-machine-learning-commerce-bu-blue-yonder-india-private-limited-bengaluru-bangalore-2-to-7-years-160221904332?src=jobsearchDesk&sid=16136419234102712&xp=4&px=1',\n",
       " 'https://www.naukri.com/job-listings-opening-for-sr-data-scientist-tech-mahindra-tech-mahindra-ltd-pune-bengaluru-bangalore-12-to-20-years-100221001125?src=jobsearchDesk&sid=16136419234102712&xp=5&px=1']"
      ]
     },
     "execution_count": 101,
     "metadata": {},
     "output_type": "execute_result"
    }
   ],
   "source": [
    "url[0:5]"
   ]
  },
  {
   "cell_type": "code",
   "execution_count": 102,
   "metadata": {},
   "outputs": [],
   "source": [
    "for i in url:\n",
    "    driver.get(i)\n",
    "    desc=driver.find_elements_by_xpath(\"//section[@class='job-desc']\")\n",
    "    \n",
    "    for j in desc:\n",
    "        a=j.text\n",
    "        descrip.append(a.replace('\\n',''))"
   ]
  },
  {
   "cell_type": "code",
   "execution_count": 104,
   "metadata": {
    "scrolled": false
   },
   "outputs": [
    {
     "data": {
      "text/plain": [
       "['Job descriptionJob descriptionDear CandidateSchedule a Telephonic Interview ( Please call for confirmation) : Mon- Sat from 11:00am to 5:00pm only.OR Walk-In to the Corporate office between Monday to Friday from 11:00am to 5:00pmContact person :Manigandan -+91 7299917200Shantha +91 9790993237Aishwaria 9427329576Greetings from CAIA !A great opportunity to enter the world of future technologies - Data Science, Analytics, AI, Data VisualizationApplications invited from all Freshers and experienced candidates aspiring to make a career in Artificial Intelligence and Advanced Analytics and Data Science.In case you are trying to shift your career to Analytics and/or AI domain please do connect with us to know more.What is needed from you?- An Educational background in any one of the following- BE/B.Tech, ME/M Tech, MSc, BSc/MSc Maths and Statistics, B Com, BCA, BSc CS, BSC IT, MSC IT, MCA- Skills relating to Mathematics/Statistics.- Natural passion towards numbers, business, coding, Analytics and Artificial Intelligence, Machine Learning, visualization- Good verbal and written communication skills- Ability to understand domains in businesses across various sectors- Freshers who wish to start their career in Analytics and AI and professionals who wish to up skill or change their domain to analytics and emerging technologies are free to apply.Selection procedure includes- Online Aptitude Test- Logical Ability Test / Written TestOn being shortlisted, you will be have to undergo a one-one discussion with our counsellor for further evaluation and processing of your Resume.What you can expect from us?You will get trained on the following modules for a period of 12-14 weeks:-SQL & PLSQL-Data Wrangling using Python-Statistics for Machine Learning,-Artificial Intelligence, Data Interpretation-Supervised & Unsupervised Learning,-NLP & Deep Learning-Cloud Data Lake-Business intelligence & Data Visualization-Simulation ProjectsWhat is the expected Outcome?At the end of the Training you are expected to be well versed with the following:- Analysis of large and complex data sets from multiple sources- Development and evaluation of data analytics models, algorithms and solutions- Understanding/implementation of ML algorithms, performance tuning and reporting- Implementation of algorithms to mine targeted data and the ability to convert data into a business story- Translation of business requirements into technical requirements; Data extraction, preparation and transformation- Identification, development and implementation of statistical techniques and algorithms that address business challenges and adds value to the organisation- Requirement Analysis and communication of findings in the form of a meaningful story with the stakeholdersCenter for Artificial Intelligence & Advanced Analytics (CAIA) focuses on the following:1. Global Research on emerging trends, technologies and applications in AI and Advanced Analytics2. Advanced Training programs for readying the future ready workforce3. Solutions to herald the futuristic lifestyle and workspaces in the field of AI and Data Science.http://www.centerforaia.com/Center for Artificial Intelligence and Advanced Analytics (Center for AIA) is the brainchild of experienced and visionary alumni of IIT Madras and Bombay. Digital leaders 5F World and Systech Solutions have joined hands to create a venture for architecting the future of society, workforce, governments and businesses. 5F World specializes in designing solutions around digital platforms and Systech Solutions has an expertise in architecting Artificial Intelligence and Advanced Analytics solutions for Fortune 500 companies through specialized programmed.5F World5F World is a leader in digital transformational journeys and has brought together the best minds in industry, academia and technology domains to develop a unique framework to transform stakeholder journeys through innovation and digitalization of businesses and education institutions.Systech SolutionsSystech Solutions is a leading organisation in Data Strategy, Management & Analytics services provider with deep technology expertise and over 20 years of industry experience. Systech Solutions helps empower clients with innovative, data-driven solutions to reimagine their enterprise and has forged partnerships with industry-leading technology providers to develop a full spectrum of data services.Websitehttp://www.centerforaia.com/https://inflexion-analytix-private-limited.business.site/?m=trueContact PersonManigandan /Shantha/AishwariaPhone Number7299917200/ 9790993237 / 9427329576Emailmanigandan@centerforaia.comRoleData AnalystIndustry TypeIT-Software, Software ServicesFunctional AreaAnalytics & Business IntelligenceEmployment TypeFull Time, PermanentRole CategoryAnalytics & BIEducationUG :B.Sc in Any Specialization, B.B.A / B.M.S in Any Specialization, B.Tech/B.E. in Any SpecializationPG :MBA/PGDM in Any Specialization, MCA in Any Specialization, M.Tech in Any Specialization, MS/M.Sc(Science) in Any SpecializationKey SkillsArtificial IntelligenceUnsupervised LearningMachine LearningStatisticsDeep LearningSQLData ScienceNLPAdvanced AnalyticsData VisualizationData WarehousingData AnalyticsETLAWSPython',\n",
       " 'Job descriptionData Scientist - Data Mining/ Machine Learning/ Statistical AnalysisRequirements :- 3-9 years of strong experience in data mining, machine learning, and statistical analysis.- BS/MS/Ph.D. in Computer Science, Statistics, Applied Math, or related areas from Premier institutes ( only IITs / IISc / BITS / Top NITs or top US university should apply)- Ability to lead and deliver in a fast-paced start-up environment.- Fluency in tools such as Matlab, Python, etc.- Strong intuition for data and Keen aptitude on large scale data analysis- Excellent written and verbal communication skills.- Ability to collaborate across teams and strong interpersonal skills.RoleDatabase Architect/DesignerIndustry TypeIT-Software, Software ServicesFunctional AreaIT Software - DBA, DatawarehousingEmployment TypeFull Time, PermanentRole CategoryProgramming & DesignEducationUG :Any Graduate in Any Specialization, B.Sc in Computers, StatisticsPG :Any Postgraduate in Any Specialization, MS/M.Sc(Science) in Computers, StatisticsDoctorate :Doctorate Not RequiredKey SkillsData ScienceData ScientistData MiningStatistical AnalystMachine LearningMATLABPython',\n",
       " 'Job descriptionRoles and ResponsibilitiesRequirements :- 6-9 years of strong experience in data mining, machine learning and statistical analysis.- BS/ MS/ PhD in Computer Science, Statistics, Applied Math, or related areas from Premier institutes ( only IITs / IISc / BITS / Top NITs or top US university should apply)- Ability to lead and deliver in a fast-paced start-up environment.- Fluency in tools such as Python/ R/ Matlab etc.- Strong intuition for data and Keen aptitude on large scale data analysis- Excellent written and verbal communication skills.- Ability to collaborate across teams and strong interpersonal skills.RoleData AnalystIndustry TypeIT-Software, Software ServicesFunctional AreaAnalytics & Business IntelligenceEmployment TypeFull Time, PermanentRole CategoryAnalytics & BIEducationUG :B.Sc in Other Specialization, Computers, StatisticsPG :MS/M.Sc(Science) in Computers, StatisticsDoctorate :Ph.D in Statistics, Computers, Other DoctorateKey SkillsData ScienceRData ScientistData MiningStatistical AnalystMachine LearningMATLABPython',\n",
       " 'Job descriptionRoles and ResponsibilitiesSkill : NLP,Semantic model, NER model, Deep LearningNotice : who can join in a month maxJob description :- 5+ years of experience using analytical toolslanguages like Python & R on large scale data- Must have Semantic model & NER experience- Experience working with pre-trained models, awareness of state-of-art in embeddings and applicability for use cases- Experience on Deep Learning for Image processing, Video analytics will be a plus- Must have strong experience in NLPNLGNLU applications using any popular Deep learning frameworks like Open CV, PyTorch, Theano, Tensor Flow, Caffe. Should have implemented solutions for industry use cases.- Demonstrated ability to engage with client stakeholders at multiple levels and provide consultative solutioning across different domains- Deep knowledge of techniques such as Linear Regression, gradient descent, Logistic Regression, Forecasting, Cluster analysis, Decision trees, Linear Optimization, Text Mining etc.- Must have experience in doing POCs- Strong applied fundamentals in data management, parallel computing and distributed systems; experience in productionizing & retraining models- Ability to guide and mentor teams of associates on solution development and approaches- Broad knowledge of fundamentals and state-of-the-art in NLP and machine learning- Coding skills in one or more programming languages such as Python, Scala, Java, C, C++- Expert high level of understanding on language semantic concepts & data standardization- Proven track record of successful models and practical implementation- Hands-on experience with popular ML frameworks such as TensorFlow- Experience with application development practices at scale, from problem definition to deployment.- Familiarity with Cloud services such as AWS, SageMaker etc. is considered a plus- Develop and apply Statistical Modeling techniques (e.g. Bayesian models and deep neural networks), optimization methods, and other ML techniques to different applications- Knowledge in Machine Learning techniques in entity resolution, common speech products or text search domainRoleData AnalystIndustry TypeIT-Software, Software ServicesFunctional AreaAnalytics & Business IntelligenceEmployment TypeFull Time, PermanentRole CategoryAnalytics & BIEducationUG :B.Tech/B.E. in Any Specialization, BCA in Computers, B.Sc in Any SpecializationPG :Any Postgraduate in Any SpecializationDoctorate :Doctorate Not RequiredKey SkillsTensorflowRNLPVideo AnalyticsData ScientistImage ProcessingData ModelingNLU/NLGDeep LearningPython',\n",
       " 'Job descriptionRoles and ResponsibilitiesMust have strong Python Programming SkillsStrong analytical & algorithm development skillsLogical and Analytical skills must be really strongMust have worked in DeepLearning Efforts - Especially computer vision.Must have experinece with Object Detection - Custom model training for Object detectionShould have experience with atleast one or more of these - Tensorflow, Keras, PyTorchPrimary Skills - Python + tensorflow - Keras / PyTorch, OpenCVPerks and BenefitsKindly share your resume to kandavelkumar.lakshmanan @cesltd.comRoleTechnical ArchitectIndustry TypeIT-Software, Software ServicesFunctional AreaIT Software - Application Programming, MaintenanceEmployment TypeFull Time, PermanentRole CategoryProgramming & DesignEducationUG :Any Graduate in Any SpecializationKey SkillsTensorflowObject DetectionAlgorithm DevelopmentAnalytical SkillsProgrammingMachine LearningDeep LearningPytorchData ScienceROpencvKerasComputer VisionPython']"
      ]
     },
     "execution_count": 104,
     "metadata": {},
     "output_type": "execute_result"
    }
   ],
   "source": [
    "descrip[0:5]"
   ]
  },
  {
   "cell_type": "code",
   "execution_count": 105,
   "metadata": {},
   "outputs": [],
   "source": [
    "jobs2=pd.DataFrame({})\n",
    "jobs2['Job Title']=titles[0:10]\n",
    "jobs2['Company Name']=comp[0:10]\n",
    "jobs2['Location']=loc[0:10]\n",
    "jobs2['Experience Required']=exp[0:10]\n",
    "jobs2['Job Description']=descrip[0:10]"
   ]
  },
  {
   "cell_type": "code",
   "execution_count": 106,
   "metadata": {},
   "outputs": [
    {
     "data": {
      "text/html": [
       "<div>\n",
       "<style scoped>\n",
       "    .dataframe tbody tr th:only-of-type {\n",
       "        vertical-align: middle;\n",
       "    }\n",
       "\n",
       "    .dataframe tbody tr th {\n",
       "        vertical-align: top;\n",
       "    }\n",
       "\n",
       "    .dataframe thead th {\n",
       "        text-align: right;\n",
       "    }\n",
       "</style>\n",
       "<table border=\"1\" class=\"dataframe\">\n",
       "  <thead>\n",
       "    <tr style=\"text-align: right;\">\n",
       "      <th></th>\n",
       "      <th>Job Title</th>\n",
       "      <th>Company Name</th>\n",
       "      <th>Location</th>\n",
       "      <th>Experience Required</th>\n",
       "      <th>Job Description</th>\n",
       "    </tr>\n",
       "  </thead>\n",
       "  <tbody>\n",
       "    <tr>\n",
       "      <th>0</th>\n",
       "      <td>Data Scientist/Data Analyst-immediate</td>\n",
       "      <td>Inflexion Analytix Private Limited</td>\n",
       "      <td>Chennai, Pune, Bengaluru, Hyderabad</td>\n",
       "      <td>0-2 Yrs</td>\n",
       "      <td>Job descriptionJob descriptionDear CandidateSc...</td>\n",
       "    </tr>\n",
       "    <tr>\n",
       "      <th>1</th>\n",
       "      <td>Data Scientist - Python/ MATLAB/ Machine Learn...</td>\n",
       "      <td>Wrackle Technologies Pvt Ltd</td>\n",
       "      <td>Bengaluru</td>\n",
       "      <td>3-8 Yrs</td>\n",
       "      <td>Job descriptionData Scientist - Data Mining/ M...</td>\n",
       "    </tr>\n",
       "    <tr>\n",
       "      <th>2</th>\n",
       "      <td>Lead Data Scientist - Machine Learning/ Data M...</td>\n",
       "      <td>Wrackle Technologies Pvt Ltd</td>\n",
       "      <td>Bengaluru</td>\n",
       "      <td>6-11 Yrs</td>\n",
       "      <td>Job descriptionRoles and ResponsibilitiesRequi...</td>\n",
       "    </tr>\n",
       "    <tr>\n",
       "      <th>3</th>\n",
       "      <td>Data Scientist - Machine Learning (Commerce BU)</td>\n",
       "      <td>BLUE YONDER INDIA PRIVATE LIMITED</td>\n",
       "      <td>Bengaluru</td>\n",
       "      <td>2-7 Yrs</td>\n",
       "      <td>Job descriptionRoles and ResponsibilitiesSkill...</td>\n",
       "    </tr>\n",
       "    <tr>\n",
       "      <th>4</th>\n",
       "      <td>Opening For Sr. Data Scientist @ Tech Mahindra</td>\n",
       "      <td>Tech Mahindra Ltd.</td>\n",
       "      <td>Pune, Bengaluru</td>\n",
       "      <td>12-20 Yrs</td>\n",
       "      <td>Job descriptionRoles and ResponsibilitiesMust ...</td>\n",
       "    </tr>\n",
       "    <tr>\n",
       "      <th>5</th>\n",
       "      <td>Opening For Sr. Data Scientist @ Tech Mahindra</td>\n",
       "      <td>Tech Mahindra Ltd.</td>\n",
       "      <td>Pune, Bengaluru</td>\n",
       "      <td>12-20 Yrs</td>\n",
       "      <td>Job descriptionHi,Requirement for Sr Data Scie...</td>\n",
       "    </tr>\n",
       "    <tr>\n",
       "      <th>6</th>\n",
       "      <td>Senior Data Scientist - NLP/ Python/ R</td>\n",
       "      <td>AVI Consulting LLP</td>\n",
       "      <td>Bengaluru, Hyderabad</td>\n",
       "      <td>4-9 Yrs</td>\n",
       "      <td>Job descriptionRole Description:A Sr. Data Sci...</td>\n",
       "    </tr>\n",
       "    <tr>\n",
       "      <th>7</th>\n",
       "      <td>Senior Data Scientist | CES IT LTD | CMMI Level 5</td>\n",
       "      <td>CES Ltd.</td>\n",
       "      <td>Chennai, Pune, Delhi NCR, Mumbai, Bengaluru, H...</td>\n",
       "      <td>2-7 Yrs</td>\n",
       "      <td>Job descriptionWe are hiring Data Scientist an...</td>\n",
       "    </tr>\n",
       "    <tr>\n",
       "      <th>8</th>\n",
       "      <td>Data Scientist- Manager/Sr. Manager</td>\n",
       "      <td>GENPACT India Private Limited</td>\n",
       "      <td>Bengaluru</td>\n",
       "      <td>8-12 Yrs</td>\n",
       "      <td>Job descriptionDATA SCIENTIST / MACHINE LEARNI...</td>\n",
       "    </tr>\n",
       "    <tr>\n",
       "      <th>9</th>\n",
       "      <td>Sr Data Scientist</td>\n",
       "      <td>Concentrix Daksh Services India Private Limited.</td>\n",
       "      <td>Pune, Mumbai, Bengaluru, Gurgaon, Kolkata</td>\n",
       "      <td>4-9 Yrs</td>\n",
       "      <td>Job descriptionRoles and Responsibilities- Mac...</td>\n",
       "    </tr>\n",
       "  </tbody>\n",
       "</table>\n",
       "</div>"
      ],
      "text/plain": [
       "                                           Job Title  \\\n",
       "0              Data Scientist/Data Analyst-immediate   \n",
       "1  Data Scientist - Python/ MATLAB/ Machine Learn...   \n",
       "2  Lead Data Scientist - Machine Learning/ Data M...   \n",
       "3    Data Scientist - Machine Learning (Commerce BU)   \n",
       "4     Opening For Sr. Data Scientist @ Tech Mahindra   \n",
       "5     Opening For Sr. Data Scientist @ Tech Mahindra   \n",
       "6             Senior Data Scientist - NLP/ Python/ R   \n",
       "7  Senior Data Scientist | CES IT LTD | CMMI Level 5   \n",
       "8                Data Scientist- Manager/Sr. Manager   \n",
       "9                                  Sr Data Scientist   \n",
       "\n",
       "                                       Company Name  \\\n",
       "0                Inflexion Analytix Private Limited   \n",
       "1                      Wrackle Technologies Pvt Ltd   \n",
       "2                      Wrackle Technologies Pvt Ltd   \n",
       "3                 BLUE YONDER INDIA PRIVATE LIMITED   \n",
       "4                                Tech Mahindra Ltd.   \n",
       "5                                Tech Mahindra Ltd.   \n",
       "6                                AVI Consulting LLP   \n",
       "7                                          CES Ltd.   \n",
       "8                     GENPACT India Private Limited   \n",
       "9  Concentrix Daksh Services India Private Limited.   \n",
       "\n",
       "                                            Location Experience Required  \\\n",
       "0                Chennai, Pune, Bengaluru, Hyderabad             0-2 Yrs   \n",
       "1                                          Bengaluru             3-8 Yrs   \n",
       "2                                          Bengaluru            6-11 Yrs   \n",
       "3                                          Bengaluru             2-7 Yrs   \n",
       "4                                    Pune, Bengaluru           12-20 Yrs   \n",
       "5                                    Pune, Bengaluru           12-20 Yrs   \n",
       "6                               Bengaluru, Hyderabad             4-9 Yrs   \n",
       "7  Chennai, Pune, Delhi NCR, Mumbai, Bengaluru, H...             2-7 Yrs   \n",
       "8                                          Bengaluru            8-12 Yrs   \n",
       "9          Pune, Mumbai, Bengaluru, Gurgaon, Kolkata             4-9 Yrs   \n",
       "\n",
       "                                     Job Description  \n",
       "0  Job descriptionJob descriptionDear CandidateSc...  \n",
       "1  Job descriptionData Scientist - Data Mining/ M...  \n",
       "2  Job descriptionRoles and ResponsibilitiesRequi...  \n",
       "3  Job descriptionRoles and ResponsibilitiesSkill...  \n",
       "4  Job descriptionRoles and ResponsibilitiesMust ...  \n",
       "5  Job descriptionHi,Requirement for Sr Data Scie...  \n",
       "6  Job descriptionRole Description:A Sr. Data Sci...  \n",
       "7  Job descriptionWe are hiring Data Scientist an...  \n",
       "8  Job descriptionDATA SCIENTIST / MACHINE LEARNI...  \n",
       "9  Job descriptionRoles and Responsibilities- Mac...  "
      ]
     },
     "execution_count": 106,
     "metadata": {},
     "output_type": "execute_result"
    }
   ],
   "source": [
    "jobs2"
   ]
  },
  {
   "cell_type": "markdown",
   "metadata": {},
   "source": [
    "# Q 3"
   ]
  },
  {
   "cell_type": "code",
   "execution_count": 121,
   "metadata": {},
   "outputs": [],
   "source": [
    "driver.get('https://www.naukri.com')"
   ]
  },
  {
   "cell_type": "code",
   "execution_count": 122,
   "metadata": {},
   "outputs": [],
   "source": [
    "search_job = driver.find_element_by_id('qsb-keyword-sugg')\n",
    "search_job.send_keys(\"Data Scientist\")"
   ]
  },
  {
   "cell_type": "code",
   "execution_count": 123,
   "metadata": {},
   "outputs": [],
   "source": [
    "search_btn = driver.find_element_by_xpath(\"//div[@class='search-btn']/button\")\n",
    "search_btn.click()"
   ]
  },
  {
   "cell_type": "code",
   "execution_count": 124,
   "metadata": {},
   "outputs": [],
   "source": [
    "loc_btn=driver.find_element_by_xpath(\"//label[@for='chk-Delhi/NCR-cityType-']/i\")\n",
    "loc_btn.click()"
   ]
  },
  {
   "cell_type": "code",
   "execution_count": 126,
   "metadata": {},
   "outputs": [],
   "source": [
    "sal_but=driver.find_element_by_xpath(\"//label[@for='chk-3-6 Lakhs-ctcFilter-']/i\")\n",
    "sal_but.click()"
   ]
  },
  {
   "cell_type": "code",
   "execution_count": 127,
   "metadata": {},
   "outputs": [],
   "source": [
    "url=\"https://www.naukri.com/data-scientist-jobs?k=data%20scientist&cityType=25.9.31&ctcFilter=3to6\""
   ]
  },
  {
   "cell_type": "code",
   "execution_count": 128,
   "metadata": {},
   "outputs": [],
   "source": [
    "driver.get(url)"
   ]
  },
  {
   "cell_type": "code",
   "execution_count": 129,
   "metadata": {},
   "outputs": [],
   "source": [
    "titles=[]\n",
    "comp=[]\n",
    "loc=[]\n",
    "exp=[]"
   ]
  },
  {
   "cell_type": "code",
   "execution_count": 130,
   "metadata": {},
   "outputs": [],
   "source": [
    "title=driver.find_elements_by_xpath(\"//a[@class='title fw500 ellipsis']\")"
   ]
  },
  {
   "cell_type": "code",
   "execution_count": 131,
   "metadata": {},
   "outputs": [
    {
     "data": {
      "text/plain": [
       "['Data Scientist',\n",
       " 'Data Scientist',\n",
       " 'Data Scientist',\n",
       " 'Data Scientist Machine Learning',\n",
       " 'Business Analyst - Data Scientist']"
      ]
     },
     "execution_count": 131,
     "metadata": {},
     "output_type": "execute_result"
    }
   ],
   "source": [
    "for i in title:\n",
    "    a=i.text\n",
    "    titles.append(a)\n",
    "titles[0:5]"
   ]
  },
  {
   "cell_type": "code",
   "execution_count": 132,
   "metadata": {},
   "outputs": [],
   "source": [
    "comp_1=driver.find_elements_by_xpath(\"//a[@class='subTitle ellipsis fleft']\")"
   ]
  },
  {
   "cell_type": "code",
   "execution_count": 133,
   "metadata": {},
   "outputs": [
    {
     "data": {
      "text/plain": [
       "['IBM India Pvt. Limited',\n",
       " 'Ciena',\n",
       " 'Country Veggie',\n",
       " 'Delhivery',\n",
       " 'HyreFox Consultants Pvt Ltd']"
      ]
     },
     "execution_count": 133,
     "metadata": {},
     "output_type": "execute_result"
    }
   ],
   "source": [
    "for i in comp_1:\n",
    "    a=i.text\n",
    "    comp.append(a)\n",
    "comp[0:5]"
   ]
  },
  {
   "cell_type": "code",
   "execution_count": 134,
   "metadata": {},
   "outputs": [],
   "source": [
    "loc_1=driver.find_elements_by_xpath(\"//li[@class='fleft grey-text br2 placeHolderLi location']/span[1]\")"
   ]
  },
  {
   "cell_type": "code",
   "execution_count": 135,
   "metadata": {},
   "outputs": [
    {
     "data": {
      "text/plain": [
       "['Gurgaon Gurugram',\n",
       " 'Gurgaon Gurugram',\n",
       " 'Ghaziabad, Bhopal, Lucknow, Kanpur, Rajkot, Bengaluru, Gurgaon, Agra, Bharuch, Jaunpur, Nagpur, Delhi, Mumbai, Jaipur, Jhansi',\n",
       " 'Gurgaon',\n",
       " 'Gurgaon']"
      ]
     },
     "execution_count": 135,
     "metadata": {},
     "output_type": "execute_result"
    }
   ],
   "source": [
    "for i in loc_1:\n",
    "    a=i.text\n",
    "    loc.append(a)\n",
    "loc[0:5]"
   ]
  },
  {
   "cell_type": "code",
   "execution_count": 136,
   "metadata": {},
   "outputs": [],
   "source": [
    "exp_1=driver.find_elements_by_xpath(\"//li[@class='fleft grey-text br2 placeHolderLi experience']/span[1]\")"
   ]
  },
  {
   "cell_type": "code",
   "execution_count": 137,
   "metadata": {},
   "outputs": [
    {
     "data": {
      "text/plain": [
       "['4-8 Yrs', '5-6 Yrs', '1-3 Yrs', '1-3 Yrs', '3-5 Yrs']"
      ]
     },
     "execution_count": 137,
     "metadata": {},
     "output_type": "execute_result"
    }
   ],
   "source": [
    "for i in exp_1:\n",
    "    a=i.text\n",
    "    exp.append(a)\n",
    "exp[0:5]"
   ]
  },
  {
   "cell_type": "code",
   "execution_count": 138,
   "metadata": {},
   "outputs": [
    {
     "name": "stdout",
     "output_type": "stream",
     "text": [
      "20 20 20 20\n"
     ]
    }
   ],
   "source": [
    "print(len(titles),len(comp),len(loc),len(exp))"
   ]
  },
  {
   "cell_type": "code",
   "execution_count": 139,
   "metadata": {},
   "outputs": [],
   "source": [
    "jobs3=pd.DataFrame({})\n",
    "jobs3['Job Title']=titles[0:10]\n",
    "jobs3['Company Name']=comp[0:10]\n",
    "jobs3['Location']=loc[0:10]\n",
    "jobs3['Experience Required']=exp[0:10]"
   ]
  },
  {
   "cell_type": "code",
   "execution_count": 140,
   "metadata": {},
   "outputs": [
    {
     "data": {
      "text/html": [
       "<div>\n",
       "<style scoped>\n",
       "    .dataframe tbody tr th:only-of-type {\n",
       "        vertical-align: middle;\n",
       "    }\n",
       "\n",
       "    .dataframe tbody tr th {\n",
       "        vertical-align: top;\n",
       "    }\n",
       "\n",
       "    .dataframe thead th {\n",
       "        text-align: right;\n",
       "    }\n",
       "</style>\n",
       "<table border=\"1\" class=\"dataframe\">\n",
       "  <thead>\n",
       "    <tr style=\"text-align: right;\">\n",
       "      <th></th>\n",
       "      <th>Job Title</th>\n",
       "      <th>Company Name</th>\n",
       "      <th>Location</th>\n",
       "      <th>Experience Required</th>\n",
       "    </tr>\n",
       "  </thead>\n",
       "  <tbody>\n",
       "    <tr>\n",
       "      <th>0</th>\n",
       "      <td>Data Scientist</td>\n",
       "      <td>IBM India Pvt. Limited</td>\n",
       "      <td>Gurgaon Gurugram</td>\n",
       "      <td>4-8 Yrs</td>\n",
       "    </tr>\n",
       "    <tr>\n",
       "      <th>1</th>\n",
       "      <td>Data Scientist</td>\n",
       "      <td>Ciena</td>\n",
       "      <td>Gurgaon Gurugram</td>\n",
       "      <td>5-6 Yrs</td>\n",
       "    </tr>\n",
       "    <tr>\n",
       "      <th>2</th>\n",
       "      <td>Data Scientist</td>\n",
       "      <td>Country Veggie</td>\n",
       "      <td>Ghaziabad, Bhopal, Lucknow, Kanpur, Rajkot, Be...</td>\n",
       "      <td>1-3 Yrs</td>\n",
       "    </tr>\n",
       "    <tr>\n",
       "      <th>3</th>\n",
       "      <td>Data Scientist Machine Learning</td>\n",
       "      <td>Delhivery</td>\n",
       "      <td>Gurgaon</td>\n",
       "      <td>1-3 Yrs</td>\n",
       "    </tr>\n",
       "    <tr>\n",
       "      <th>4</th>\n",
       "      <td>Business Analyst - Data Scientist</td>\n",
       "      <td>HyreFox Consultants Pvt Ltd</td>\n",
       "      <td>Gurgaon</td>\n",
       "      <td>3-5 Yrs</td>\n",
       "    </tr>\n",
       "    <tr>\n",
       "      <th>5</th>\n",
       "      <td>Analyst - Data Scientist</td>\n",
       "      <td>HyreFox Consultants Pvt Ltd</td>\n",
       "      <td>Gurgaon</td>\n",
       "      <td>1-3 Yrs</td>\n",
       "    </tr>\n",
       "    <tr>\n",
       "      <th>6</th>\n",
       "      <td>Data Scientist</td>\n",
       "      <td>Amity University</td>\n",
       "      <td>Faridabad, Delhi NCR, Ghaziabad</td>\n",
       "      <td>6-8 Yrs</td>\n",
       "    </tr>\n",
       "    <tr>\n",
       "      <th>7</th>\n",
       "      <td>Data Scientist</td>\n",
       "      <td>BlackBuck</td>\n",
       "      <td>Bengaluru, Gurgaon</td>\n",
       "      <td>3-7 Yrs</td>\n",
       "    </tr>\n",
       "    <tr>\n",
       "      <th>8</th>\n",
       "      <td>Senior Data Scientist</td>\n",
       "      <td>iNICU</td>\n",
       "      <td>Delhi</td>\n",
       "      <td>1-5 Yrs</td>\n",
       "    </tr>\n",
       "    <tr>\n",
       "      <th>9</th>\n",
       "      <td>Senior Data Scientist - NLP</td>\n",
       "      <td>IRIS SOFTWARE Inc</td>\n",
       "      <td>Delhi NCR</td>\n",
       "      <td>4-9 Yrs</td>\n",
       "    </tr>\n",
       "  </tbody>\n",
       "</table>\n",
       "</div>"
      ],
      "text/plain": [
       "                           Job Title                 Company Name  \\\n",
       "0                     Data Scientist       IBM India Pvt. Limited   \n",
       "1                     Data Scientist                        Ciena   \n",
       "2                     Data Scientist               Country Veggie   \n",
       "3    Data Scientist Machine Learning                    Delhivery   \n",
       "4  Business Analyst - Data Scientist  HyreFox Consultants Pvt Ltd   \n",
       "5           Analyst - Data Scientist  HyreFox Consultants Pvt Ltd   \n",
       "6                     Data Scientist             Amity University   \n",
       "7                     Data Scientist                    BlackBuck   \n",
       "8              Senior Data Scientist                        iNICU   \n",
       "9        Senior Data Scientist - NLP            IRIS SOFTWARE Inc   \n",
       "\n",
       "                                            Location Experience Required  \n",
       "0                                   Gurgaon Gurugram             4-8 Yrs  \n",
       "1                                   Gurgaon Gurugram             5-6 Yrs  \n",
       "2  Ghaziabad, Bhopal, Lucknow, Kanpur, Rajkot, Be...             1-3 Yrs  \n",
       "3                                            Gurgaon             1-3 Yrs  \n",
       "4                                            Gurgaon             3-5 Yrs  \n",
       "5                                            Gurgaon             1-3 Yrs  \n",
       "6                    Faridabad, Delhi NCR, Ghaziabad             6-8 Yrs  \n",
       "7                                 Bengaluru, Gurgaon             3-7 Yrs  \n",
       "8                                              Delhi             1-5 Yrs  \n",
       "9                                          Delhi NCR             4-9 Yrs  "
      ]
     },
     "execution_count": 140,
     "metadata": {},
     "output_type": "execute_result"
    }
   ],
   "source": [
    "jobs3"
   ]
  },
  {
   "cell_type": "code",
   "execution_count": null,
   "metadata": {},
   "outputs": [],
   "source": []
  }
 ],
 "metadata": {
  "kernelspec": {
   "display_name": "Python 3",
   "language": "python",
   "name": "python3"
  },
  "language_info": {
   "codemirror_mode": {
    "name": "ipython",
    "version": 3
   },
   "file_extension": ".py",
   "mimetype": "text/x-python",
   "name": "python",
   "nbconvert_exporter": "python",
   "pygments_lexer": "ipython3",
   "version": "3.8.5"
  }
 },
 "nbformat": 4,
 "nbformat_minor": 4
}
