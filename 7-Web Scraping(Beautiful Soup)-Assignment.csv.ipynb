{
 "cells": [
  {
   "cell_type": "code",
   "execution_count": 65,
   "metadata": {},
   "outputs": [],
   "source": [
    "import  requests\n",
    "from  bs4 import BeautifulSoup"
   ]
  },
  {
   "cell_type": "code",
   "execution_count": 66,
   "metadata": {},
   "outputs": [],
   "source": [
    " HEADERS = {\"User-Agent\":\"Mozilla/5.0 (Windows NT 10.0; Win64; x64) AppleWebKit/537.36 (KHTML, like Gecko) Chrome/88.0.4324.146 Safari/537.36\", \"Accept-Encoding\":\"gzip, deflate\", \"Accept\":\"text/html,application/xhtml+xml,application/xml;q=0.9,*/*;q=0.8\", \"DNT\":\"1\",\"Connection\":\"close\", \"Upgrade-Insecure-Requests\":\"1\"}"
   ]
  },
  {
   "cell_type": "code",
   "execution_count": 67,
   "metadata": {},
   "outputs": [],
   "source": [
    "page = requests.get('https://www.amazon.in/s?k=mobile+under+20000&ref=nb_sb_noss_2')\n",
    "soup = BeautifulSoup(page.text, 'html.parser'), headers=HEADERS"
   ]
  },
  {
   "cell_type": "code",
   "execution_count": 68,
   "metadata": {},
   "outputs": [],
   "source": [
    "name=[]\n",
    "price=[]\n",
    "image=[]\n",
    "rating=[]"
   ]
  },
  {
   "cell_type": "code",
   "execution_count": 69,
   "metadata": {},
   "outputs": [],
   "source": [
    "name_1=soup.find_all('a',class_=\"a-link-normal a-text-normal\")"
   ]
  },
  {
   "cell_type": "code",
   "execution_count": 70,
   "metadata": {},
   "outputs": [
    {
     "data": {
      "text/plain": [
       "['Samsung Galaxy M02 (Black,3GB RAM, 32GB Storage) | Dual Rear Camera | 6.5\" HD+ Display | Introductory Offer- Rs.200 Off',\n",
       " 'Lava Z2 (2GB RAM, 32GB Storage)- Flame Red',\n",
       " 'Redmi 9 (Sky Blue, 4GB RAM, 64GB Storage)',\n",
       " 'Redmi 9A (Nature Green, 2GB Ram, 32GB Storage) | 2GHz Octa-core Helio G25 Processor',\n",
       " 'Oppo A31 (Fantasy White, 6GB RAM, 128GB Storage) with No Cost EMI/Additional Exchange Offers',\n",
       " 'Samsung Galaxy M31s (Mirage Black, 6GB RAM, 128GB Storage)',\n",
       " 'Samsung Galaxy M21 (Raven Black, 4GB RAM, 64GB Storage)',\n",
       " 'Redmi Note 9 Pro Max (Aurora Blue, 6GB RAM, 64GB Storage)- 64MP Quad Camera & Alexa Hands-Free',\n",
       " 'Tecno Spark 6 Air (Ocean Blue, 2GB RAM, 32GB Storage)',\n",
       " 'Samsung Galaxy M01 (Black, 3GB RAM, 32GB Storage) with No Cost EMI/Additional Exchange Offers',\n",
       " 'Samsung Galaxy M21 (Midnight Blue, 4GB RAM, 64GB Storage)',\n",
       " 'Samsung Galaxy M01 (Blue, 3GB RAM, 32GB Storage) with No Cost EMI/Additional Exchange Offers',\n",
       " 'Samsung Galaxy M01 Core (Black, 2GB RAM, 32GB Storage) with No Cost EMI/Additional Exchange Offers',\n",
       " 'Oppo A31 (Mystery Black, 6GB RAM, 128GB Storage) with No Cost EMI/Additional Exchange Offers',\n",
       " 'Redmi Note 9 (Pebble Grey, 4GB RAM 64GB Storage) - 48MP Quad Camera & Full HD+ Display',\n",
       " 'Redmi 9A (Midnight Black, 3GB Ram, 32GB Storage) | 2GHz Octa-core Helio G25 Processor',\n",
       " 'Panasonic Eluga i7 (2GB RAM, 16GB Storage, Finger Print Sensor, 4000mAh Battery) (Black)',\n",
       " 'Redmi 9A (Sea Blue, 2GB Ram, 32GB Storage) | 2GHz Octa-core Helio G25 Processor',\n",
       " 'Samsung Galaxy M31s (Mirage Blue, 6GB RAM, 128GB Storage)',\n",
       " 'Redmi 8A Dual (Sky White, 3GB RAM, 64GB Storage) – Dual Cameras & 5,000 mAH Battery',\n",
       " 'Redmi Note 9 Pro (Interstellar Black, 4GB RAM, 64GB Storage)- Latest 8nm Snapdragon 720G & Alexa Hands-Free | Extra INR 1000 Off on Exchange',\n",
       " 'Samsung Galaxy M21 (Raven Black, 4GB RAM, 64GB Storage)',\n",
       " \"itel A47 (Ice Lake Blue, 2GB RAM, 32GB Storage, 5.5'' HD+ IPS Display)\"]"
      ]
     },
     "execution_count": 70,
     "metadata": {},
     "output_type": "execute_result"
    }
   ],
   "source": [
    "for i in name_1:\n",
    "    no=i.text.replace('\\n','')\n",
    "    name.append(no)\n",
    "name[:]"
   ]
  },
  {
   "cell_type": "code",
   "execution_count": 72,
   "metadata": {},
   "outputs": [],
   "source": [
    "price_1=soup.find_all('span',class_=\"a-price-whole\")"
   ]
  },
  {
   "cell_type": "code",
   "execution_count": 73,
   "metadata": {},
   "outputs": [
    {
     "data": {
      "text/plain": [
       "['7,299',\n",
       " '6,998',\n",
       " '8,999',\n",
       " '6,999',\n",
       " '11,990',\n",
       " '19,499',\n",
       " '13,999',\n",
       " '14,999',\n",
       " '8,069',\n",
       " '7,499',\n",
       " '13,999',\n",
       " '7,499',\n",
       " '5,999',\n",
       " '11,990',\n",
       " '11,999',\n",
       " '7,499',\n",
       " '5,000',\n",
       " '6,999',\n",
       " '19,499',\n",
       " '7,999',\n",
       " '12,999',\n",
       " '13,999',\n",
       " '5,499']"
      ]
     },
     "execution_count": 73,
     "metadata": {},
     "output_type": "execute_result"
    }
   ],
   "source": [
    "for i in price_1:\n",
    "    no=i.text\n",
    "    price.append(no)\n",
    "price[:]"
   ]
  },
  {
   "cell_type": "code",
   "execution_count": 75,
   "metadata": {},
   "outputs": [],
   "source": [
    "rating_1=soup.find_all('span',class_=\"a-icon-alt\")"
   ]
  },
  {
   "cell_type": "code",
   "execution_count": 85,
   "metadata": {},
   "outputs": [],
   "source": [
    "for i in rating_1:\n",
    "    no=i.text\n",
    "    rating.append(no)"
   ]
  },
  {
   "cell_type": "code",
   "execution_count": 86,
   "metadata": {},
   "outputs": [],
   "source": [
    "rating.remove('4 Stars & Up')\n",
    "rating.remove('3 Stars & Up')\n",
    "rating.remove('2 Stars & Up')\n",
    "rating.remove('1 Star & Up')"
   ]
  },
  {
   "cell_type": "code",
   "execution_count": 87,
   "metadata": {},
   "outputs": [
    {
     "data": {
      "text/plain": [
       "['4.9 out of 5 stars',\n",
       " '4.0 out of 5 stars',\n",
       " '4.2 out of 5 stars',\n",
       " '4.0 out of 5 stars',\n",
       " '4.3 out of 5 stars',\n",
       " '4.2 out of 5 stars',\n",
       " '4.1 out of 5 stars',\n",
       " '3.9 out of 5 stars',\n",
       " '3.9 out of 5 stars',\n",
       " '4.2 out of 5 stars',\n",
       " '3.9 out of 5 stars',\n",
       " '3.4 out of 5 stars',\n",
       " '4.0 out of 5 stars',\n",
       " '4.2 out of 5 stars',\n",
       " '4.2 out of 5 stars',\n",
       " '2.8 out of 5 stars',\n",
       " '4.2 out of 5 stars',\n",
       " '4.3 out of 5 stars',\n",
       " '4.1 out of 5 stars',\n",
       " '4.2 out of 5 stars',\n",
       " '4.2 out of 5 stars']"
      ]
     },
     "execution_count": 87,
     "metadata": {},
     "output_type": "execute_result"
    }
   ],
   "source": [
    "rating"
   ]
  },
  {
   "cell_type": "code",
   "execution_count": 80,
   "metadata": {},
   "outputs": [],
   "source": [
    "image_1=soup.find_all('div',class_=\"a-section aok-relative s-image-fixed-height\")"
   ]
  },
  {
   "cell_type": "code",
   "execution_count": 83,
   "metadata": {},
   "outputs": [
    {
     "data": {
      "text/plain": [
       "['https://m.media-amazon.com/images/I/71etYYG3M8L._AC_UY218_.jpg',\n",
       " 'https://m.media-amazon.com/images/I/41n8jTxKLML._AC_UY218_.jpg',\n",
       " 'https://m.media-amazon.com/images/I/71A9Vo1BatL._AC_UY218_.jpg',\n",
       " 'https://m.media-amazon.com/images/I/71hDPUM7VPL._AC_UY218_.jpg',\n",
       " 'https://m.media-amazon.com/images/I/61CnyJ-IbML._AC_UY218_.jpg',\n",
       " 'https://m.media-amazon.com/images/I/81onqHVeECL._AC_UY218_.jpg',\n",
       " 'https://m.media-amazon.com/images/I/71dujTTJDZL._AC_UY218_.jpg',\n",
       " 'https://m.media-amazon.com/images/I/81o1rDu5FZL._AC_UY218_.jpg',\n",
       " 'https://m.media-amazon.com/images/I/71AYb2AGHXL._AC_UY218_.jpg',\n",
       " 'https://m.media-amazon.com/images/I/71KCwNV6MuL._AC_UY218_.jpg',\n",
       " 'https://m.media-amazon.com/images/I/716tvc8pVEL._AC_UY218_.jpg',\n",
       " 'https://m.media-amazon.com/images/I/71hDPUM7VPL._AC_UY218_.jpg',\n",
       " 'https://m.media-amazon.com/images/I/41QsvcpKaZL._AC_UY218_.jpg',\n",
       " 'https://m.media-amazon.com/images/I/71hDPUM7VPL._AC_UY218_.jpg',\n",
       " 'https://m.media-amazon.com/images/I/61d-phh4GfL._AC_UY218_.jpg',\n",
       " 'https://m.media-amazon.com/images/I/710p2f-zAdL._AC_UY218_.jpg',\n",
       " 'https://m.media-amazon.com/images/I/811axeBSeRL._AC_UY218_.jpg',\n",
       " 'https://m.media-amazon.com/images/I/71QLvGIAq5L._AC_UY218_.jpg',\n",
       " 'https://m.media-amazon.com/images/I/71a5PtqIv7L._AC_UY218_.jpg']"
      ]
     },
     "execution_count": 83,
     "metadata": {},
     "output_type": "execute_result"
    }
   ],
   "source": [
    "for i in image_1:\n",
    "    no=i.find('img').get('src')\n",
    "    image.append(no)\n",
    "image[:]"
   ]
  },
  {
   "cell_type": "code",
   "execution_count": 84,
   "metadata": {},
   "outputs": [
    {
     "data": {
      "text/plain": [
       "19"
      ]
     },
     "execution_count": 84,
     "metadata": {},
     "output_type": "execute_result"
    }
   ],
   "source": [
    "len(image)"
   ]
  },
  {
   "cell_type": "code",
   "execution_count": 89,
   "metadata": {},
   "outputs": [],
   "source": [
    "import pandas as pd\n",
    "table=pd.DataFrame({})\n",
    "table['Mobile Name']=name[0:19]\n",
    "table['Price']=price[0:19]\n",
    "table['Image URL']=image[0:19]\n",
    "table['Customer Rating']=rating[0:19]"
   ]
  },
  {
   "cell_type": "code",
   "execution_count": 90,
   "metadata": {},
   "outputs": [
    {
     "data": {
      "text/html": [
       "<div>\n",
       "<style scoped>\n",
       "    .dataframe tbody tr th:only-of-type {\n",
       "        vertical-align: middle;\n",
       "    }\n",
       "\n",
       "    .dataframe tbody tr th {\n",
       "        vertical-align: top;\n",
       "    }\n",
       "\n",
       "    .dataframe thead th {\n",
       "        text-align: right;\n",
       "    }\n",
       "</style>\n",
       "<table border=\"1\" class=\"dataframe\">\n",
       "  <thead>\n",
       "    <tr style=\"text-align: right;\">\n",
       "      <th></th>\n",
       "      <th>Mobile Name</th>\n",
       "      <th>Price</th>\n",
       "      <th>Image URL</th>\n",
       "      <th>Customer Rating</th>\n",
       "    </tr>\n",
       "  </thead>\n",
       "  <tbody>\n",
       "    <tr>\n",
       "      <th>0</th>\n",
       "      <td>Samsung Galaxy M02 (Black,3GB RAM, 32GB Storag...</td>\n",
       "      <td>7,299</td>\n",
       "      <td>https://m.media-amazon.com/images/I/71etYYG3M8...</td>\n",
       "      <td>4.9 out of 5 stars</td>\n",
       "    </tr>\n",
       "    <tr>\n",
       "      <th>1</th>\n",
       "      <td>Lava Z2 (2GB RAM, 32GB Storage)- Flame Red</td>\n",
       "      <td>6,998</td>\n",
       "      <td>https://m.media-amazon.com/images/I/41n8jTxKLM...</td>\n",
       "      <td>4.0 out of 5 stars</td>\n",
       "    </tr>\n",
       "    <tr>\n",
       "      <th>2</th>\n",
       "      <td>Redmi 9 (Sky Blue, 4GB RAM, 64GB Storage)</td>\n",
       "      <td>8,999</td>\n",
       "      <td>https://m.media-amazon.com/images/I/71A9Vo1Bat...</td>\n",
       "      <td>4.2 out of 5 stars</td>\n",
       "    </tr>\n",
       "    <tr>\n",
       "      <th>3</th>\n",
       "      <td>Redmi 9A (Nature Green, 2GB Ram, 32GB Storage)...</td>\n",
       "      <td>6,999</td>\n",
       "      <td>https://m.media-amazon.com/images/I/71hDPUM7VP...</td>\n",
       "      <td>4.0 out of 5 stars</td>\n",
       "    </tr>\n",
       "    <tr>\n",
       "      <th>4</th>\n",
       "      <td>Oppo A31 (Fantasy White, 6GB RAM, 128GB Storag...</td>\n",
       "      <td>11,990</td>\n",
       "      <td>https://m.media-amazon.com/images/I/61CnyJ-IbM...</td>\n",
       "      <td>4.3 out of 5 stars</td>\n",
       "    </tr>\n",
       "    <tr>\n",
       "      <th>5</th>\n",
       "      <td>Samsung Galaxy M31s (Mirage Black, 6GB RAM, 12...</td>\n",
       "      <td>19,499</td>\n",
       "      <td>https://m.media-amazon.com/images/I/81onqHVeEC...</td>\n",
       "      <td>4.2 out of 5 stars</td>\n",
       "    </tr>\n",
       "    <tr>\n",
       "      <th>6</th>\n",
       "      <td>Samsung Galaxy M21 (Raven Black, 4GB RAM, 64GB...</td>\n",
       "      <td>13,999</td>\n",
       "      <td>https://m.media-amazon.com/images/I/71dujTTJDZ...</td>\n",
       "      <td>4.1 out of 5 stars</td>\n",
       "    </tr>\n",
       "    <tr>\n",
       "      <th>7</th>\n",
       "      <td>Redmi Note 9 Pro Max (Aurora Blue, 6GB RAM, 64...</td>\n",
       "      <td>14,999</td>\n",
       "      <td>https://m.media-amazon.com/images/I/81o1rDu5FZ...</td>\n",
       "      <td>3.9 out of 5 stars</td>\n",
       "    </tr>\n",
       "    <tr>\n",
       "      <th>8</th>\n",
       "      <td>Tecno Spark 6 Air (Ocean Blue, 2GB RAM, 32GB S...</td>\n",
       "      <td>8,069</td>\n",
       "      <td>https://m.media-amazon.com/images/I/71AYb2AGHX...</td>\n",
       "      <td>3.9 out of 5 stars</td>\n",
       "    </tr>\n",
       "    <tr>\n",
       "      <th>9</th>\n",
       "      <td>Samsung Galaxy M01 (Black, 3GB RAM, 32GB Stora...</td>\n",
       "      <td>7,499</td>\n",
       "      <td>https://m.media-amazon.com/images/I/71KCwNV6Mu...</td>\n",
       "      <td>4.2 out of 5 stars</td>\n",
       "    </tr>\n",
       "    <tr>\n",
       "      <th>10</th>\n",
       "      <td>Samsung Galaxy M21 (Midnight Blue, 4GB RAM, 64...</td>\n",
       "      <td>13,999</td>\n",
       "      <td>https://m.media-amazon.com/images/I/716tvc8pVE...</td>\n",
       "      <td>3.9 out of 5 stars</td>\n",
       "    </tr>\n",
       "    <tr>\n",
       "      <th>11</th>\n",
       "      <td>Samsung Galaxy M01 (Blue, 3GB RAM, 32GB Storag...</td>\n",
       "      <td>7,499</td>\n",
       "      <td>https://m.media-amazon.com/images/I/71hDPUM7VP...</td>\n",
       "      <td>3.4 out of 5 stars</td>\n",
       "    </tr>\n",
       "    <tr>\n",
       "      <th>12</th>\n",
       "      <td>Samsung Galaxy M01 Core (Black, 2GB RAM, 32GB ...</td>\n",
       "      <td>5,999</td>\n",
       "      <td>https://m.media-amazon.com/images/I/41QsvcpKaZ...</td>\n",
       "      <td>4.0 out of 5 stars</td>\n",
       "    </tr>\n",
       "    <tr>\n",
       "      <th>13</th>\n",
       "      <td>Oppo A31 (Mystery Black, 6GB RAM, 128GB Storag...</td>\n",
       "      <td>11,990</td>\n",
       "      <td>https://m.media-amazon.com/images/I/71hDPUM7VP...</td>\n",
       "      <td>4.2 out of 5 stars</td>\n",
       "    </tr>\n",
       "    <tr>\n",
       "      <th>14</th>\n",
       "      <td>Redmi Note 9 (Pebble Grey, 4GB RAM 64GB Storag...</td>\n",
       "      <td>11,999</td>\n",
       "      <td>https://m.media-amazon.com/images/I/61d-phh4Gf...</td>\n",
       "      <td>4.2 out of 5 stars</td>\n",
       "    </tr>\n",
       "    <tr>\n",
       "      <th>15</th>\n",
       "      <td>Redmi 9A (Midnight Black, 3GB Ram, 32GB Storag...</td>\n",
       "      <td>7,499</td>\n",
       "      <td>https://m.media-amazon.com/images/I/710p2f-zAd...</td>\n",
       "      <td>2.8 out of 5 stars</td>\n",
       "    </tr>\n",
       "    <tr>\n",
       "      <th>16</th>\n",
       "      <td>Panasonic Eluga i7 (2GB RAM, 16GB Storage, Fin...</td>\n",
       "      <td>5,000</td>\n",
       "      <td>https://m.media-amazon.com/images/I/811axeBSeR...</td>\n",
       "      <td>4.2 out of 5 stars</td>\n",
       "    </tr>\n",
       "    <tr>\n",
       "      <th>17</th>\n",
       "      <td>Redmi 9A (Sea Blue, 2GB Ram, 32GB Storage) | 2...</td>\n",
       "      <td>6,999</td>\n",
       "      <td>https://m.media-amazon.com/images/I/71QLvGIAq5...</td>\n",
       "      <td>4.3 out of 5 stars</td>\n",
       "    </tr>\n",
       "    <tr>\n",
       "      <th>18</th>\n",
       "      <td>Samsung Galaxy M31s (Mirage Blue, 6GB RAM, 128...</td>\n",
       "      <td>19,499</td>\n",
       "      <td>https://m.media-amazon.com/images/I/71a5PtqIv7...</td>\n",
       "      <td>4.1 out of 5 stars</td>\n",
       "    </tr>\n",
       "  </tbody>\n",
       "</table>\n",
       "</div>"
      ],
      "text/plain": [
       "                                          Mobile Name   Price  \\\n",
       "0   Samsung Galaxy M02 (Black,3GB RAM, 32GB Storag...   7,299   \n",
       "1          Lava Z2 (2GB RAM, 32GB Storage)- Flame Red   6,998   \n",
       "2           Redmi 9 (Sky Blue, 4GB RAM, 64GB Storage)   8,999   \n",
       "3   Redmi 9A (Nature Green, 2GB Ram, 32GB Storage)...   6,999   \n",
       "4   Oppo A31 (Fantasy White, 6GB RAM, 128GB Storag...  11,990   \n",
       "5   Samsung Galaxy M31s (Mirage Black, 6GB RAM, 12...  19,499   \n",
       "6   Samsung Galaxy M21 (Raven Black, 4GB RAM, 64GB...  13,999   \n",
       "7   Redmi Note 9 Pro Max (Aurora Blue, 6GB RAM, 64...  14,999   \n",
       "8   Tecno Spark 6 Air (Ocean Blue, 2GB RAM, 32GB S...   8,069   \n",
       "9   Samsung Galaxy M01 (Black, 3GB RAM, 32GB Stora...   7,499   \n",
       "10  Samsung Galaxy M21 (Midnight Blue, 4GB RAM, 64...  13,999   \n",
       "11  Samsung Galaxy M01 (Blue, 3GB RAM, 32GB Storag...   7,499   \n",
       "12  Samsung Galaxy M01 Core (Black, 2GB RAM, 32GB ...   5,999   \n",
       "13  Oppo A31 (Mystery Black, 6GB RAM, 128GB Storag...  11,990   \n",
       "14  Redmi Note 9 (Pebble Grey, 4GB RAM 64GB Storag...  11,999   \n",
       "15  Redmi 9A (Midnight Black, 3GB Ram, 32GB Storag...   7,499   \n",
       "16  Panasonic Eluga i7 (2GB RAM, 16GB Storage, Fin...   5,000   \n",
       "17  Redmi 9A (Sea Blue, 2GB Ram, 32GB Storage) | 2...   6,999   \n",
       "18  Samsung Galaxy M31s (Mirage Blue, 6GB RAM, 128...  19,499   \n",
       "\n",
       "                                            Image URL     Customer Rating  \n",
       "0   https://m.media-amazon.com/images/I/71etYYG3M8...  4.9 out of 5 stars  \n",
       "1   https://m.media-amazon.com/images/I/41n8jTxKLM...  4.0 out of 5 stars  \n",
       "2   https://m.media-amazon.com/images/I/71A9Vo1Bat...  4.2 out of 5 stars  \n",
       "3   https://m.media-amazon.com/images/I/71hDPUM7VP...  4.0 out of 5 stars  \n",
       "4   https://m.media-amazon.com/images/I/61CnyJ-IbM...  4.3 out of 5 stars  \n",
       "5   https://m.media-amazon.com/images/I/81onqHVeEC...  4.2 out of 5 stars  \n",
       "6   https://m.media-amazon.com/images/I/71dujTTJDZ...  4.1 out of 5 stars  \n",
       "7   https://m.media-amazon.com/images/I/81o1rDu5FZ...  3.9 out of 5 stars  \n",
       "8   https://m.media-amazon.com/images/I/71AYb2AGHX...  3.9 out of 5 stars  \n",
       "9   https://m.media-amazon.com/images/I/71KCwNV6Mu...  4.2 out of 5 stars  \n",
       "10  https://m.media-amazon.com/images/I/716tvc8pVE...  3.9 out of 5 stars  \n",
       "11  https://m.media-amazon.com/images/I/71hDPUM7VP...  3.4 out of 5 stars  \n",
       "12  https://m.media-amazon.com/images/I/41QsvcpKaZ...  4.0 out of 5 stars  \n",
       "13  https://m.media-amazon.com/images/I/71hDPUM7VP...  4.2 out of 5 stars  \n",
       "14  https://m.media-amazon.com/images/I/61d-phh4Gf...  4.2 out of 5 stars  \n",
       "15  https://m.media-amazon.com/images/I/710p2f-zAd...  2.8 out of 5 stars  \n",
       "16  https://m.media-amazon.com/images/I/811axeBSeR...  4.2 out of 5 stars  \n",
       "17  https://m.media-amazon.com/images/I/71QLvGIAq5...  4.3 out of 5 stars  \n",
       "18  https://m.media-amazon.com/images/I/71a5PtqIv7...  4.1 out of 5 stars  "
      ]
     },
     "execution_count": 90,
     "metadata": {},
     "output_type": "execute_result"
    }
   ],
   "source": [
    "table"
   ]
  },
  {
   "cell_type": "code",
   "execution_count": null,
   "metadata": {},
   "outputs": [],
   "source": [
    "table.to_csv('Web Scraping(Beautiful Soup)-Assignment 7.csv')"
   ]
  }
 ],
 "metadata": {
  "kernelspec": {
   "display_name": "Python 3",
   "language": "python",
   "name": "python3"
  },
  "language_info": {
   "codemirror_mode": {
    "name": "ipython",
    "version": 3
   },
   "file_extension": ".py",
   "mimetype": "text/x-python",
   "name": "python",
   "nbconvert_exporter": "python",
   "pygments_lexer": "ipython3",
   "version": "3.8.5"
  }
 },
 "nbformat": 4,
 "nbformat_minor": 4
}
